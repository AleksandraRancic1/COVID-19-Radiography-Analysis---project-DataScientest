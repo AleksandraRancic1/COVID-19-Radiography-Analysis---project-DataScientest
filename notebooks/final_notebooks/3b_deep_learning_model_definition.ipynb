{
 "cells": [
  {
   "cell_type": "markdown",
   "metadata": {},
   "source": [
    "# Notebook Objective - Model Definition\n",
    "This notebook contains the definitions of CNN models. They are only being defined here, and then trained in another notebook"
   ]
  },
  {
   "cell_type": "code",
   "execution_count": 8,
   "metadata": {},
   "outputs": [],
   "source": [
    "import os\n",
    "import shutil\n",
    "\n",
    "# Create the models/cnn folder if it does not exists yet\n",
    "base_dir = os.path.abspath('..')\n",
    "model_dir = os.path.join(base_dir, 'models', 'cnn')\n",
    "if not os.path.exists(model_dir):\n",
    "    os.mkdir(model_dir)\n",
    "\n",
    "from tensorflow.keras.backend import clear_session\n",
    "from tensorflow.keras.models import Sequential\n",
    "from tensorflow.keras.layers import BatchNormalization, Conv2D, InputLayer, MaxPooling2D, Flatten, Dropout, Dense, Activation\n",
    "from tensorflow.keras.applications import VGG19"
   ]
  },
  {
   "cell_type": "markdown",
   "metadata": {},
   "source": [
    "### Defining Save Function"
   ]
  },
  {
   "cell_type": "code",
   "execution_count": 9,
   "metadata": {},
   "outputs": [],
   "source": [
    "# The base model (untrained) will just be called model_name.keras\n",
    "# The trained versions will later have individual suffixes to them\n",
    "\n",
    "def save_model(model):\n",
    "    '''\n",
    "    This function takes a model and saves it in the model folder under a subdirecotry according to the models name\n",
    "    '''\n",
    "    model_folder = os.path.join(model_dir, model._name)\n",
    "    if not os.path.exists(model_folder):\n",
    "        os.mkdir(model_folder)\n",
    "    model_path = os.path.join(model_folder, model._name + '.keras')\n",
    "    model.save(model_path)\n",
    "    print('Model has been saved under {}'.format(model_path))"
   ]
  },
  {
   "cell_type": "markdown",
   "metadata": {},
   "source": [
    "### Defining Models\n",
    "Each model should begin with the InputLayer of (256, 256, 1).\n",
    "In case of the VGG19 one has to adapt the image size to (224, 224, 3)\n",
    "Then it is a combination of Convolutional , Pooling , DropOut and Dense Layer"
   ]
  },
  {
   "cell_type": "markdown",
   "metadata": {},
   "source": [
    "#### LMAP3_nap"
   ]
  },
  {
   "cell_type": "code",
   "execution_count": 10,
   "metadata": {},
   "outputs": [
    {
     "name": "stdout",
     "output_type": "stream",
     "text": [
      "Model: \"LMAP3_nap\"\n",
      "________________________________________________________________________________________________________________________\n",
      " Layer (type)                                         Output Shape                                    Param #           \n",
      "========================================================================================================================\n",
      " conv2d (Conv2D)                                      (None, 256, 256, 16)                            160               \n",
      "                                                                                                                        \n",
      " max_pooling2d (MaxPooling2D)                         (None, 128, 128, 16)                            0                 \n",
      "                                                                                                                        \n",
      " dropout (Dropout)                                    (None, 128, 128, 16)                            0                 \n",
      "                                                                                                                        \n",
      " conv2d_1 (Conv2D)                                    (None, 128, 128, 32)                            4640              \n",
      "                                                                                                                        \n",
      " max_pooling2d_1 (MaxPooling2D)                       (None, 64, 64, 32)                              0                 \n",
      "                                                                                                                        \n",
      " dropout_1 (Dropout)                                  (None, 64, 64, 32)                              0                 \n",
      "                                                                                                                        \n",
      " conv2d_2 (Conv2D)                                    (None, 64, 64, 64)                              18496             \n",
      "                                                                                                                        \n",
      " max_pooling2d_2 (MaxPooling2D)                       (None, 32, 32, 64)                              0                 \n",
      "                                                                                                                        \n",
      " dropout_2 (Dropout)                                  (None, 32, 32, 64)                              0                 \n",
      "                                                                                                                        \n",
      " conv2d_3 (Conv2D)                                    (None, 32, 32, 128)                             73856             \n",
      "                                                                                                                        \n",
      " max_pooling2d_3 (MaxPooling2D)                       (None, 16, 16, 128)                             0                 \n",
      "                                                                                                                        \n",
      " conv2d_4 (Conv2D)                                    (None, 16, 16, 256)                             295168            \n",
      "                                                                                                                        \n",
      " max_pooling2d_4 (MaxPooling2D)                       (None, 8, 8, 256)                               0                 \n",
      "                                                                                                                        \n",
      " dropout_3 (Dropout)                                  (None, 8, 8, 256)                               0                 \n",
      "                                                                                                                        \n",
      " flatten (Flatten)                                    (None, 16384)                                   0                 \n",
      "                                                                                                                        \n",
      " dense (Dense)                                        (None, 256)                                     4194560           \n",
      "                                                                                                                        \n",
      " dropout_4 (Dropout)                                  (None, 256)                                     0                 \n",
      "                                                                                                                        \n",
      " dense_1 (Dense)                                      (None, 4)                                       1028              \n",
      "                                                                                                                        \n",
      "========================================================================================================================\n",
      "Total params: 4587908 (17.50 MB)\n",
      "Trainable params: 4587908 (17.50 MB)\n",
      "Non-trainable params: 0 (0.00 Byte)\n",
      "________________________________________________________________________________________________________________________\n",
      "Model has been saved under /Users/philipptrinh/workspace/DataScientest/Project - Covid X-Ray/Project Covid19-XRay Repo/may24_bds_int_covid_xray/models/cnn/LMAP3_nap/LMAP3_nap.keras\n"
     ]
    }
   ],
   "source": [
    "clear_session()\n",
    "\n",
    "model = Sequential()\n",
    "\n",
    "model._name = 'LMAP3_nap'\n",
    "\n",
    "model.add(InputLayer(input_shape=(256, 256, 1)))\n",
    "model.add(Conv2D(16, (3, 3), activation=\"relu\", padding='same'))\n",
    "model.add(MaxPooling2D(pool_size = (2, 2)))\n",
    "model.add(Dropout(rate=0.2))\n",
    "model.add(Conv2D(32, (3, 3), activation=\"relu\", padding='same'))\n",
    "model.add(MaxPooling2D(pool_size = (2, 2)))\n",
    "model.add(Dropout(rate=0.2))\n",
    "model.add(Conv2D(64, (3, 3), activation=\"relu\", padding='same'))\n",
    "model.add(MaxPooling2D(pool_size = (2, 2)))\n",
    "model.add(Dropout(rate=0.2))\n",
    "model.add(Conv2D(128, (3, 3), activation=\"relu\", padding='same'))\n",
    "model.add(MaxPooling2D(pool_size = (2, 2)))\n",
    "model.add(Conv2D(256, (3, 3), activation=\"relu\", padding='same'))\n",
    "model.add(MaxPooling2D(pool_size = (2, 2)))\n",
    "model.add(Dropout(rate=0.2))\n",
    "model.add(Flatten())\n",
    "model.add(Dense(activation = 'relu', units = 256))\n",
    "model.add(Dropout(rate=0.2))\n",
    "model.add(Dense(activation = 'softmax', units = 4))\n",
    "\n",
    "model.summary(line_length=120)\n",
    "\n",
    "save_model(model)"
   ]
  },
  {
   "cell_type": "markdown",
   "metadata": {},
   "source": [
    "#### LMAP3_real"
   ]
  },
  {
   "cell_type": "code",
   "execution_count": 11,
   "metadata": {},
   "outputs": [
    {
     "name": "stdout",
     "output_type": "stream",
     "text": [
      "Model: \"LMAP3_real\"\n",
      "________________________________________________________________________________________________________________________\n",
      " Layer (type)                                         Output Shape                                    Param #           \n",
      "========================================================================================================================\n",
      " conv2d (Conv2D)                                      (None, 254, 254, 32)                            320               \n",
      "                                                                                                                        \n",
      " max_pooling2d (MaxPooling2D)                         (None, 127, 127, 32)                            0                 \n",
      "                                                                                                                        \n",
      " conv2d_1 (Conv2D)                                    (None, 125, 125, 32)                            9248              \n",
      "                                                                                                                        \n",
      " max_pooling2d_1 (MaxPooling2D)                       (None, 62, 62, 32)                              0                 \n",
      "                                                                                                                        \n",
      " conv2d_2 (Conv2D)                                    (None, 60, 60, 32)                              9248              \n",
      "                                                                                                                        \n",
      " max_pooling2d_2 (MaxPooling2D)                       (None, 30, 30, 32)                              0                 \n",
      "                                                                                                                        \n",
      " conv2d_3 (Conv2D)                                    (None, 28, 28, 64)                              18496             \n",
      "                                                                                                                        \n",
      " max_pooling2d_3 (MaxPooling2D)                       (None, 14, 14, 64)                              0                 \n",
      "                                                                                                                        \n",
      " conv2d_4 (Conv2D)                                    (None, 12, 12, 64)                              36928             \n",
      "                                                                                                                        \n",
      " max_pooling2d_4 (MaxPooling2D)                       (None, 6, 6, 64)                                0                 \n",
      "                                                                                                                        \n",
      " dropout (Dropout)                                    (None, 6, 6, 64)                                0                 \n",
      "                                                                                                                        \n",
      " flatten (Flatten)                                    (None, 2304)                                    0                 \n",
      "                                                                                                                        \n",
      " dense (Dense)                                        (None, 128)                                     295040            \n",
      "                                                                                                                        \n",
      " dropout_1 (Dropout)                                  (None, 128)                                     0                 \n",
      "                                                                                                                        \n",
      " dense_1 (Dense)                                      (None, 64)                                      8256              \n",
      "                                                                                                                        \n",
      " dropout_2 (Dropout)                                  (None, 64)                                      0                 \n",
      "                                                                                                                        \n",
      " dense_2 (Dense)                                      (None, 4)                                       260               \n",
      "                                                                                                                        \n",
      "========================================================================================================================\n",
      "Total params: 377796 (1.44 MB)\n",
      "Trainable params: 377796 (1.44 MB)\n",
      "Non-trainable params: 0 (0.00 Byte)\n",
      "________________________________________________________________________________________________________________________\n",
      "Model has been saved under /Users/philipptrinh/workspace/DataScientest/Project - Covid X-Ray/Project Covid19-XRay Repo/may24_bds_int_covid_xray/models/cnn/LMAP3_real/LMAP3_real.keras\n"
     ]
    }
   ],
   "source": [
    "clear_session()\n",
    "\n",
    "model = Sequential()\n",
    "\n",
    "model._name = 'LMAP3_real'\n",
    "\n",
    "model.add(InputLayer(input_shape=(256, 256, 1)))\n",
    "model.add(Conv2D(32, (3, 3), activation=\"relu\"))\n",
    "model.add(MaxPooling2D(pool_size = (2, 2)))\n",
    "model.add(Conv2D(32, (3, 3), activation=\"relu\"))\n",
    "model.add(MaxPooling2D(pool_size = (2, 2)))\n",
    "model.add(Conv2D(32, (3, 3), activation=\"relu\"))\n",
    "model.add(MaxPooling2D(pool_size = (2, 2)))\n",
    "model.add(Conv2D(64, (3, 3), activation=\"relu\"))\n",
    "model.add(MaxPooling2D(pool_size = (2, 2)))\n",
    "model.add(Conv2D(64, (3, 3), activation=\"relu\"))\n",
    "model.add(MaxPooling2D(pool_size = (2, 2)))\n",
    "model.add(Dropout(rate=0.2))\n",
    "model.add(Flatten())\n",
    "model.add(Dense(activation = 'relu', units = 128))\n",
    "model.add(Dropout(rate=0.2))\n",
    "model.add(Dense(activation = 'relu', units = 64))\n",
    "model.add(Dropout(rate=0.2))\n",
    "model.add(Dense(activation = 'softmax', units = 4))\n",
    "\n",
    "model.summary(line_length=120)\n",
    "\n",
    "save_model(model)"
   ]
  },
  {
   "cell_type": "markdown",
   "metadata": {},
   "source": [
    "#### AlexNet"
   ]
  },
  {
   "cell_type": "code",
   "execution_count": 12,
   "metadata": {},
   "outputs": [
    {
     "name": "stdout",
     "output_type": "stream",
     "text": [
      "Model: \"AlexNet\"\n",
      "________________________________________________________________________________________________________________________\n",
      " Layer (type)                                         Output Shape                                    Param #           \n",
      "========================================================================================================================\n",
      " conv2d (Conv2D)                                      (None, 64, 64, 96)                              11712             \n",
      "                                                                                                                        \n",
      " activation (Activation)                              (None, 64, 64, 96)                              0                 \n",
      "                                                                                                                        \n",
      " max_pooling2d (MaxPooling2D)                         (None, 31, 31, 96)                              0                 \n",
      "                                                                                                                        \n",
      " conv2d_1 (Conv2D)                                    (None, 8, 8, 256)                               614656            \n",
      "                                                                                                                        \n",
      " activation_1 (Activation)                            (None, 8, 8, 256)                               0                 \n",
      "                                                                                                                        \n",
      " max_pooling2d_1 (MaxPooling2D)                       (None, 3, 3, 256)                               0                 \n",
      "                                                                                                                        \n",
      " conv2d_2 (Conv2D)                                    (None, 1, 1, 384)                               885120            \n",
      "                                                                                                                        \n",
      " activation_2 (Activation)                            (None, 1, 1, 384)                               0                 \n",
      "                                                                                                                        \n",
      " conv2d_3 (Conv2D)                                    (None, 1, 1, 384)                               1327488           \n",
      "                                                                                                                        \n",
      " activation_3 (Activation)                            (None, 1, 1, 384)                               0                 \n",
      "                                                                                                                        \n",
      " conv2d_4 (Conv2D)                                    (None, 1, 1, 256)                               884992            \n",
      "                                                                                                                        \n",
      " activation_4 (Activation)                            (None, 1, 1, 256)                               0                 \n",
      "                                                                                                                        \n",
      " flatten (Flatten)                                    (None, 256)                                     0                 \n",
      "                                                                                                                        \n",
      " dense (Dense)                                        (None, 4096)                                    1052672           \n",
      "                                                                                                                        \n",
      " dropout (Dropout)                                    (None, 4096)                                    0                 \n",
      "                                                                                                                        \n",
      " dense_1 (Dense)                                      (None, 4096)                                    16781312          \n",
      "                                                                                                                        \n",
      " dropout_1 (Dropout)                                  (None, 4096)                                    0                 \n",
      "                                                                                                                        \n",
      " dense_2 (Dense)                                      (None, 4)                                       16388             \n",
      "                                                                                                                        \n",
      "========================================================================================================================\n",
      "Total params: 21574340 (82.30 MB)\n",
      "Trainable params: 21574340 (82.30 MB)\n",
      "Non-trainable params: 0 (0.00 Byte)\n",
      "________________________________________________________________________________________________________________________\n",
      "Model has been saved under /Users/philipptrinh/workspace/DataScientest/Project - Covid X-Ray/Project Covid19-XRay Repo/may24_bds_int_covid_xray/models/cnn/AlexNet/AlexNet.keras\n"
     ]
    }
   ],
   "source": [
    "clear_session()\n",
    "\n",
    "model = Sequential()\n",
    "model._name = 'AlexNet'\n",
    "\n",
    "model.add(InputLayer(input_shape=(256, 256, 1)))\n",
    "model.add(Conv2D(96, 11, strides=4, padding='same'))\n",
    "model.add(Activation('relu'))\n",
    "model.add(MaxPooling2D(3, strides=2))\n",
    "model.add(Conv2D(256, 5, strides=4, padding='same'))\n",
    "model.add(Activation('relu'))\n",
    "model.add(MaxPooling2D(3, strides=2))\n",
    "model.add(Conv2D(384, 3, strides=4, padding='same'))\n",
    "model.add(Activation('relu'))\n",
    "model.add(Conv2D(384, 3, strides=4, padding='same'))\n",
    "model.add(Activation('relu'))\n",
    "model.add(Conv2D(256, 3, strides=4, padding='same'))\n",
    "model.add(Activation('relu'))\n",
    "model.add(Flatten())\n",
    "model.add(Dense(4096, activation='relu'))\n",
    "model.add(Dropout(0.5))\n",
    "model.add(Dense(4096, activation='relu'))\n",
    "model.add(Dropout(0.5))\n",
    "model.add(Dense(4, activation='softmax'))\n",
    "\n",
    "model.summary(line_length=120)\n",
    "\n",
    "save_model(model)"
   ]
  },
  {
   "cell_type": "markdown",
   "metadata": {},
   "source": [
    "#### VGG19"
   ]
  },
  {
   "cell_type": "code",
   "execution_count": 13,
   "metadata": {},
   "outputs": [
    {
     "name": "stdout",
     "output_type": "stream",
     "text": [
      "Downloading data from https://storage.googleapis.com/tensorflow/keras-applications/vgg19/vgg19_weights_tf_dim_ordering_tf_kernels_notop.h5\n",
      "80134624/80134624 [==============================] - 4s 0us/step\n",
      "Model: \"VGG19\"\n",
      "_________________________________________________________________\n",
      " Layer (type)                Output Shape              Param #   \n",
      "=================================================================\n",
      " vgg19 (Functional)          (None, 512)               20024384  \n",
      "                                                                 \n",
      " dense (Dense)               (None, 4)                 2052      \n",
      "                                                                 \n",
      "=================================================================\n",
      "Total params: 20026436 (76.39 MB)\n",
      "Trainable params: 20026436 (76.39 MB)\n",
      "Non-trainable params: 0 (0.00 Byte)\n",
      "_________________________________________________________________\n",
      "Model has been saved under /Users/philipptrinh/workspace/DataScientest/Project - Covid X-Ray/Project Covid19-XRay Repo/may24_bds_int_covid_xray/models/cnn/VGG19/VGG19.keras\n"
     ]
    }
   ],
   "source": [
    "# Powerful pretrained model VGG19 with over 20e6 parameters\n",
    "\n",
    "clear_session()\n",
    "\n",
    "model = Sequential()\n",
    "model._name = 'VGG19'\n",
    "\n",
    "model.add(InputLayer(input_shape=(224, 224, 3)))\n",
    "model.add(VGG19(include_top=False, weights=\"imagenet\", pooling='max'))\n",
    "model.add(Dense(4, activation='softmax'))\n",
    "\n",
    "model.summary()\n",
    "\n",
    "save_model(model)"
   ]
  }
 ],
 "metadata": {
  "kernelspec": {
   "display_name": "tf-gpu",
   "language": "python",
   "name": "python3"
  },
  "language_info": {
   "codemirror_mode": {
    "name": "ipython",
    "version": 3
   },
   "file_extension": ".py",
   "mimetype": "text/x-python",
   "name": "python",
   "nbconvert_exporter": "python",
   "pygments_lexer": "ipython3",
   "version": "3.9.19"
  }
 },
 "nbformat": 4,
 "nbformat_minor": 2
}
