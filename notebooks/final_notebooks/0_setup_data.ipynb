{
 "cells": [
  {
   "cell_type": "markdown",
   "metadata": {},
   "source": [
    "# Importing kaggle data\n",
    "<img src=\"../references/kaggle_instructions.png\"/>"
   ]
  },
  {
   "cell_type": "code",
   "execution_count": 1,
   "metadata": {},
   "outputs": [
    {
     "name": "stdout",
     "output_type": "stream",
     "text": [
      "Please provide your Kaggle credentials to download this dataset. Learn more: http://bit.ly/kaggle-creds\n",
      "Your Kaggle username:"
     ]
    },
    {
     "name": "stdout",
     "output_type": "stream",
     "text": [
      "Your Kaggle Key:Dataset URL: https://www.kaggle.com/datasets/tawsifurrahman/covid19-radiography-database\n",
      "Downloading covid19-radiography-database.zip to ./covid19-radiography-database\n"
     ]
    },
    {
     "name": "stderr",
     "output_type": "stream",
     "text": [
      "100%|██████████| 778M/778M [00:33<00:00, 24.4MB/s] \n"
     ]
    },
    {
     "name": "stdout",
     "output_type": "stream",
     "text": [
      "\n"
     ]
    }
   ],
   "source": [
    "# Go to your Kaggle Account page and create a new API token.. Use it to download the Kaggel dataset\n",
    "\n",
    "import opendatasets as ods\n",
    "ods.download('https://www.kaggle.com/datasets/tawsifurrahman/covid19-radiography-database/data')"
   ]
  },
  {
   "cell_type": "code",
   "execution_count": 2,
   "metadata": {},
   "outputs": [],
   "source": [
    "# Create a \"data\" directory in the project and move the dataset there into a \"raw\" folder\n",
    "\n",
    "import shutil\n",
    "import os\n",
    "\n",
    "# Set the base_dir to be the root of the project\n",
    "base_dir = os.path.abspath('..')\n",
    "data_dir = os.path.join(base_dir, 'data')\n",
    "\n",
    "if not(os.path.exists(data_dir) and os.path.isdir(data_dir)):\n",
    "    os.makedirs(data_dir)\n",
    "\n",
    "# Move dataset to data directory\n",
    "if os.path.exists('covid19-radiography-database/COVID-19_Radiography_Dataset'):\n",
    "    shutil.move(\n",
    "        os.path.join('covid19-radiography-database', 'COVID-19_Radiography_Dataset'),\n",
    "        os.path.join(data_dir)\n",
    "        )\n",
    "    os.rename(os.path.join(data_dir, 'COVID-19_Radiography_Dataset'), os.path.join(data_dir, 'raw'))\n",
    "\n",
    "# The dataset should exist inside ./data/raw now and include 4 folders with images/masks, 4 metadata.xlsx files and 1 README.md file\n",
    "\n",
    "shutil.rmtree('covid19-radiography-database')"
   ]
  }
 ],
 "metadata": {
  "kernelspec": {
   "display_name": "tf-gpu",
   "language": "python",
   "name": "python3"
  },
  "language_info": {
   "codemirror_mode": {
    "name": "ipython",
    "version": 3
   },
   "file_extension": ".py",
   "mimetype": "text/x-python",
   "name": "python",
   "nbconvert_exporter": "python",
   "pygments_lexer": "ipython3",
   "version": "3.9.19"
  }
 },
 "nbformat": 4,
 "nbformat_minor": 2
}
