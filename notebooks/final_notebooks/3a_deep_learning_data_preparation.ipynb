{
 "cells": [
  {
   "cell_type": "markdown",
   "metadata": {},
   "source": [
    "# Notebook Objective - Data Preparation\n",
    "In this notebook we filter out the lung area (roi) of the images by applying their respective masks to them. Then we save them in the data/preprocessed folder"
   ]
  },
  {
   "cell_type": "code",
   "execution_count": 1,
   "metadata": {},
   "outputs": [],
   "source": [
    "import os\n",
    "import cv2\n",
    "import numpy as np\n",
    "\n",
    "def rewrite_roi_and_raw_images(source_dir, target_dir, target_shape=None, overwrite=False):\n",
    "    '''\n",
    "    This function loads the images and masks of each class folder in source_dir and applies the mask to the image.\n",
    "    If target_shape is given then the image will be resized to that shape, otherwise it will be resized to the mask shape.\n",
    "    Afterwards the resized and filtered image (\"roi\") as well as the resized and unfiltered image (\"raw\") are being saved in the target_dir\n",
    "    If overwrite is False then it will be checked whether that file already exists in raw/roi subdirectory\n",
    "    '''\n",
    "    class_folders = next(os.walk(source_dir))[1]\n",
    "\n",
    "    for folder in class_folders:\n",
    "        \n",
    "        img_files = os.listdir(os.path.join(source_dir, folder, 'images'))\n",
    "        msk_files = os.listdir(os.path.join(source_dir, folder, 'masks'))\n",
    "        \n",
    "        roi_dir = os.path.join(target_dir, 'roi', folder)\n",
    "        raw_dir = os.path.join(target_dir, 'raw', folder)\n",
    "        \n",
    "        if not os.path.isdir(roi_dir): \n",
    "            os.makedirs(roi_dir)\n",
    "        if not os.path.isdir(raw_dir):\n",
    "            os.makedirs(raw_dir)\n",
    "\n",
    "        for img_file, msk_file in zip(img_files, msk_files):\n",
    "        \n",
    "            if not img_file == msk_file:\n",
    "                print(img_file, ' does not match ', msk_file)\n",
    "                continue\n",
    "        \n",
    "            roi_path = os.path.join(roi_dir, img_file)\n",
    "            raw_path = os.path.join(raw_dir, img_file)\n",
    "        \n",
    "            if not overwrite and os.path.isfile(roi_path) and os.path.isfile(raw_path):\n",
    "                # Skip this file if the roi and raw version already exist\n",
    "                continue\n",
    "        \n",
    "            msk = cv2.imread(os.path.join(source_dir, folder, 'masks', msk_file), cv2.IMREAD_GRAYSCALE)\n",
    "            img = cv2.imread(os.path.join(source_dir, folder, 'images', img_file), cv2.IMREAD_GRAYSCALE)\n",
    "\n",
    "            img = cv2.resize(img, msk.shape)\n",
    "            roi = cv2.bitwise_and(img, msk)\n",
    "            if target_shape is not None:\n",
    "                img = cv2.resize(img, target_shape)\n",
    "\n",
    "            if overwrite or not os.path.isfile(roi_path):\n",
    "                cv2.imwrite(roi_path, roi)\n",
    "            if overwrite or not os.path.isfile(raw_path):\n",
    "                cv2.imwrite(raw_path, img)"
   ]
  },
  {
   "cell_type": "code",
   "execution_count": 73,
   "metadata": {},
   "outputs": [],
   "source": [
    "# Let's do the rewriting, takes some time\n",
    "\n",
    "base_dir = os.path.abspath('..')\n",
    "source_dir = os.path.join(base_dir, 'data', 'raw')\n",
    "target_dir = os.path.join(base_dir, 'data', 'preprocessed')\n",
    "rewrite_roi_and_raw_images(source_dir, target_dir, target_shape=(256, 256), overwrite=1)"
   ]
  }
 ],
 "metadata": {
  "kernelspec": {
   "display_name": "tf-gpu",
   "language": "python",
   "name": "python3"
  },
  "language_info": {
   "codemirror_mode": {
    "name": "ipython",
    "version": 3
   },
   "file_extension": ".py",
   "mimetype": "text/x-python",
   "name": "python",
   "nbconvert_exporter": "python",
   "pygments_lexer": "ipython3",
   "version": "3.11.5"
  }
 },
 "nbformat": 4,
 "nbformat_minor": 2
}
